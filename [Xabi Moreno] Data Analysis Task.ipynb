{
 "cells": [
  {
   "cell_type": "markdown",
   "metadata": {},
   "source": [
    "## Data Analysis Task\n",
    "\n",
    "- **Applicant:** Xabi Moreno\n",
    "- **Position:** Data Analyst for Schibsted Spain\n",
    "- **Date:** Marth 24, 2019"
   ]
  },
  {
   "cell_type": "code",
   "execution_count": 1,
   "metadata": {},
   "outputs": [],
   "source": [
    "import pandas as pd\n",
    "import numpy as np\n",
    "import matplotlib.pyplot as plt\n",
    "import time\n",
    "import datetime\n",
    "import csv"
   ]
  },
  {
   "cell_type": "markdown",
   "metadata": {},
   "source": [
    "I decided to make a new .csv file instead of altering the original one because I wanted the former to remain untouched. I will use Unix timestamp to calculate `session_length`."
   ]
  },
  {
   "cell_type": "code",
   "execution_count": 2,
   "metadata": {
    "scrolled": true
   },
   "outputs": [],
   "source": [
    "with open('events_log.csv','r') as csvinput, open('events_log_2.csv', 'w') as csvoutput:\n",
    "        writer = csv.writer(csvoutput, lineterminator='\\n')\n",
    "        reader = csv.reader(csvinput)\n",
    "\n",
    "        all = []\n",
    "        row = next(reader)\n",
    "        row.append('unix_timestamp')\n",
    "        all.append(row)\n",
    "\n",
    "        for row in reader:\n",
    "            uts = str(int(float(row[1])))\n",
    "            uts = time.mktime(datetime.datetime.strptime(uts, \"%Y%m%d%H%M%S\").timetuple())\n",
    "            row.append(uts)\n",
    "            all.append(row)\n",
    "\n",
    "        writer.writerows(all)"
   ]
  },
  {
   "cell_type": "markdown",
   "metadata": {},
   "source": [
    "### 1. What is our daily overall clickthrough rate?"
   ]
  },
  {
   "cell_type": "code",
   "execution_count": 3,
   "metadata": {
    "scrolled": true
   },
   "outputs": [
    {
     "data": {
      "text/html": [
       "<div>\n",
       "<style scoped>\n",
       "    .dataframe tbody tr th:only-of-type {\n",
       "        vertical-align: middle;\n",
       "    }\n",
       "\n",
       "    .dataframe tbody tr th {\n",
       "        vertical-align: top;\n",
       "    }\n",
       "\n",
       "    .dataframe thead th {\n",
       "        text-align: right;\n",
       "    }\n",
       "</style>\n",
       "<table border=\"1\" class=\"dataframe\">\n",
       "  <thead>\n",
       "    <tr style=\"text-align: right;\">\n",
       "      <th>action</th>\n",
       "      <th>searchResultPage</th>\n",
       "      <th>visitPage</th>\n",
       "      <th>av_ctr</th>\n",
       "    </tr>\n",
       "    <tr>\n",
       "      <th>day</th>\n",
       "      <th></th>\n",
       "      <th></th>\n",
       "      <th></th>\n",
       "    </tr>\n",
       "  </thead>\n",
       "  <tbody>\n",
       "    <tr>\n",
       "      <th>20160301</th>\n",
       "      <td>18374</td>\n",
       "      <td>6654</td>\n",
       "      <td>0.36</td>\n",
       "    </tr>\n",
       "    <tr>\n",
       "      <th>20160302</th>\n",
       "      <td>18902</td>\n",
       "      <td>6692</td>\n",
       "      <td>0.35</td>\n",
       "    </tr>\n",
       "    <tr>\n",
       "      <th>20160303</th>\n",
       "      <td>19159</td>\n",
       "      <td>6574</td>\n",
       "      <td>0.34</td>\n",
       "    </tr>\n",
       "    <tr>\n",
       "      <th>20160304</th>\n",
       "      <td>16675</td>\n",
       "      <td>4294</td>\n",
       "      <td>0.26</td>\n",
       "    </tr>\n",
       "    <tr>\n",
       "      <th>20160305</th>\n",
       "      <td>13204</td>\n",
       "      <td>3323</td>\n",
       "      <td>0.25</td>\n",
       "    </tr>\n",
       "    <tr>\n",
       "      <th>20160306</th>\n",
       "      <td>14612</td>\n",
       "      <td>3758</td>\n",
       "      <td>0.26</td>\n",
       "    </tr>\n",
       "    <tr>\n",
       "      <th>20160307</th>\n",
       "      <td>19011</td>\n",
       "      <td>4714</td>\n",
       "      <td>0.25</td>\n",
       "    </tr>\n",
       "    <tr>\n",
       "      <th>20160308</th>\n",
       "      <td>16297</td>\n",
       "      <td>4098</td>\n",
       "      <td>0.25</td>\n",
       "    </tr>\n",
       "  </tbody>\n",
       "</table>\n",
       "</div>"
      ],
      "text/plain": [
       "action    searchResultPage  visitPage  av_ctr\n",
       "day                                          \n",
       "20160301             18374       6654    0.36\n",
       "20160302             18902       6692    0.35\n",
       "20160303             19159       6574    0.34\n",
       "20160304             16675       4294    0.26\n",
       "20160305             13204       3323    0.25\n",
       "20160306             14612       3758    0.26\n",
       "20160307             19011       4714    0.25\n",
       "20160308             16297       4098    0.25"
      ]
     },
     "execution_count": 3,
     "metadata": {},
     "output_type": "execute_result"
    }
   ],
   "source": [
    "df = pd.read_csv('events_log_2.csv')\n",
    "df['day'] = (df['timestamp'] // 1000000).astype('int64')\n",
    "\n",
    "d_ctr = pd.pivot_table(df, \n",
    "                       values='uuid', \n",
    "                       index=['day'], \n",
    "                       columns=['action'], \n",
    "                       aggfunc=lambda x: len(x.unique()))\n",
    "\n",
    "d_ctr['av_ctr'] = round(d_ctr.visitPage / d_ctr.searchResultPage, 2)\n",
    "d_ctr[['searchResultPage', 'visitPage', 'av_ctr']]"
   ]
  },
  {
   "cell_type": "code",
   "execution_count": 4,
   "metadata": {
    "scrolled": false
   },
   "outputs": [
    {
     "data": {
      "text/plain": [
       "<matplotlib.axes._subplots.AxesSubplot at 0x261153b85c0>"
      ]
     },
     "execution_count": 4,
     "metadata": {},
     "output_type": "execute_result"
    },
    {
     "data": {
      "image/png": "[encoded data removed]",
      "text/plain": [
       "<Figure size 1080x432 with 1 Axes>"
      ]
     },
     "metadata": {
      "needs_background": "light"
     },
     "output_type": "display_data"
    }
   ],
   "source": [
    "d_ctr['av_ctr'].plot.bar(title='Daily Overall CTR', use_index=True, figsize=(15,6), ylim=[0,0.5])"
   ]
  },
  {
   "cell_type": "markdown",
   "metadata": {},
   "source": [
    "### 1.1. How does it vary between the groups?"
   ]
  },
  {
   "cell_type": "code",
   "execution_count": 5,
   "metadata": {},
   "outputs": [
    {
     "data": {
      "text/html": [
       "<div>\n",
       "<style scoped>\n",
       "    .dataframe tbody tr th:only-of-type {\n",
       "        vertical-align: middle;\n",
       "    }\n",
       "\n",
       "    .dataframe tbody tr th {\n",
       "        vertical-align: top;\n",
       "    }\n",
       "\n",
       "    .dataframe thead th {\n",
       "        text-align: right;\n",
       "    }\n",
       "</style>\n",
       "<table border=\"1\" class=\"dataframe\">\n",
       "  <thead>\n",
       "    <tr style=\"text-align: right;\">\n",
       "      <th></th>\n",
       "      <th>av_ctr_a</th>\n",
       "      <th>av_ctr_b</th>\n",
       "      <th>av_ctr</th>\n",
       "    </tr>\n",
       "    <tr>\n",
       "      <th>day</th>\n",
       "      <th></th>\n",
       "      <th></th>\n",
       "      <th></th>\n",
       "    </tr>\n",
       "  </thead>\n",
       "  <tbody>\n",
       "    <tr>\n",
       "      <th>20160301</th>\n",
       "      <td>0.47</td>\n",
       "      <td>0.13</td>\n",
       "      <td>0.36</td>\n",
       "    </tr>\n",
       "    <tr>\n",
       "      <th>20160302</th>\n",
       "      <td>0.45</td>\n",
       "      <td>0.13</td>\n",
       "      <td>0.35</td>\n",
       "    </tr>\n",
       "    <tr>\n",
       "      <th>20160303</th>\n",
       "      <td>0.43</td>\n",
       "      <td>0.14</td>\n",
       "      <td>0.34</td>\n",
       "    </tr>\n",
       "    <tr>\n",
       "      <th>20160304</th>\n",
       "      <td>0.30</td>\n",
       "      <td>0.17</td>\n",
       "      <td>0.26</td>\n",
       "    </tr>\n",
       "    <tr>\n",
       "      <th>20160305</th>\n",
       "      <td>0.29</td>\n",
       "      <td>0.18</td>\n",
       "      <td>0.25</td>\n",
       "    </tr>\n",
       "    <tr>\n",
       "      <th>20160306</th>\n",
       "      <td>0.31</td>\n",
       "      <td>0.17</td>\n",
       "      <td>0.26</td>\n",
       "    </tr>\n",
       "    <tr>\n",
       "      <th>20160307</th>\n",
       "      <td>0.28</td>\n",
       "      <td>0.17</td>\n",
       "      <td>0.25</td>\n",
       "    </tr>\n",
       "    <tr>\n",
       "      <th>20160308</th>\n",
       "      <td>0.30</td>\n",
       "      <td>0.16</td>\n",
       "      <td>0.25</td>\n",
       "    </tr>\n",
       "  </tbody>\n",
       "</table>\n",
       "</div>"
      ],
      "text/plain": [
       "          av_ctr_a  av_ctr_b  av_ctr\n",
       "day                                 \n",
       "20160301      0.47      0.13    0.36\n",
       "20160302      0.45      0.13    0.35\n",
       "20160303      0.43      0.14    0.34\n",
       "20160304      0.30      0.17    0.26\n",
       "20160305      0.29      0.18    0.25\n",
       "20160306      0.31      0.17    0.26\n",
       "20160307      0.28      0.17    0.25\n",
       "20160308      0.30      0.16    0.25"
      ]
     },
     "execution_count": 5,
     "metadata": {},
     "output_type": "execute_result"
    }
   ],
   "source": [
    "ga_ctr = pd.pivot_table(df[df.group == 'a'], \n",
    "                        values='uuid', \n",
    "                        index=['day'], \n",
    "                        columns=['action'], \n",
    "                        aggfunc=lambda x: len(x.unique()))\n",
    "\n",
    "gb_ctr = pd.pivot_table(df[df.group == 'b'], \n",
    "                        values='uuid', \n",
    "                        index=['day'], \n",
    "                        columns=['action'], \n",
    "                        aggfunc=lambda x: len(x.unique()))\n",
    "\n",
    "ga_ctr['av_ctr'] = round(ga_ctr['visitPage']/ga_ctr['searchResultPage'], 2)\n",
    "gb_ctr['av_ctr'] = round(gb_ctr['visitPage']/gb_ctr['searchResultPage'], 2)\n",
    "\n",
    "g_ctr = pd.merge(ga_ctr['av_ctr'], gb_ctr['av_ctr'], on=['day'], suffixes=('_a', '_b'))\n",
    "g_ctr = g_ctr.merge(d_ctr['av_ctr'], on=['day'])\n",
    "g_ctr\n"
   ]
  },
  {
   "cell_type": "code",
   "execution_count": 6,
   "metadata": {
    "scrolled": false
   },
   "outputs": [
    {
     "data": {
      "text/plain": [
       "<matplotlib.axes._subplots.AxesSubplot at 0x26127be9b70>"
      ]
     },
     "execution_count": 6,
     "metadata": {},
     "output_type": "execute_result"
    },
    {
     "data": {
      "image/png": "[encoded data removed]",
      "text/plain": [
       "<Figure size 1080x432 with 1 Axes>"
      ]
     },
     "metadata": {
      "needs_background": "light"
     },
     "output_type": "display_data"
    }
   ],
   "source": [
    "ax = g_ctr[['av_ctr']].plot(linestyle='--', marker='o', color='Red')\n",
    "g_ctr[['av_ctr_a', 'av_ctr_b']].plot(title='Daily Overall CTR', figsize=(15,6), ylim=[0,0.5], ax=ax, marker='o')"
   ]
  },
  {
   "cell_type": "markdown",
   "metadata": {},
   "source": [
    "### 2. Which results do people tend to try first? How does it change day-to-day?"
   ]
  },
  {
   "cell_type": "code",
   "execution_count": 7,
   "metadata": {},
   "outputs": [
    {
     "data": {
      "text/html": [
       "<div>\n",
       "<style scoped>\n",
       "    .dataframe tbody tr th:only-of-type {\n",
       "        vertical-align: middle;\n",
       "    }\n",
       "\n",
       "    .dataframe tbody tr th {\n",
       "        vertical-align: top;\n",
       "    }\n",
       "\n",
       "    .dataframe thead th {\n",
       "        text-align: right;\n",
       "    }\n",
       "</style>\n",
       "<table border=\"1\" class=\"dataframe\">\n",
       "  <thead>\n",
       "    <tr style=\"text-align: right;\">\n",
       "      <th></th>\n",
       "      <th>result_position</th>\n",
       "    </tr>\n",
       "    <tr>\n",
       "      <th>day</th>\n",
       "      <th></th>\n",
       "    </tr>\n",
       "  </thead>\n",
       "  <tbody>\n",
       "    <tr>\n",
       "      <th>20160301</th>\n",
       "      <td>5</td>\n",
       "    </tr>\n",
       "    <tr>\n",
       "      <th>20160302</th>\n",
       "      <td>2</td>\n",
       "    </tr>\n",
       "    <tr>\n",
       "      <th>20160303</th>\n",
       "      <td>3</td>\n",
       "    </tr>\n",
       "    <tr>\n",
       "      <th>20160304</th>\n",
       "      <td>4</td>\n",
       "    </tr>\n",
       "    <tr>\n",
       "      <th>20160305</th>\n",
       "      <td>2</td>\n",
       "    </tr>\n",
       "    <tr>\n",
       "      <th>20160306</th>\n",
       "      <td>2</td>\n",
       "    </tr>\n",
       "    <tr>\n",
       "      <th>20160307</th>\n",
       "      <td>3</td>\n",
       "    </tr>\n",
       "    <tr>\n",
       "      <th>20160308</th>\n",
       "      <td>3</td>\n",
       "    </tr>\n",
       "    <tr>\n",
       "      <th>All</th>\n",
       "      <td>3</td>\n",
       "    </tr>\n",
       "  </tbody>\n",
       "</table>\n",
       "</div>"
      ],
      "text/plain": [
       "          result_position\n",
       "day                      \n",
       "20160301                5\n",
       "20160302                2\n",
       "20160303                3\n",
       "20160304                4\n",
       "20160305                2\n",
       "20160306                2\n",
       "20160307                3\n",
       "20160308                3\n",
       "All                     3"
      ]
     },
     "execution_count": 7,
     "metadata": {},
     "output_type": "execute_result"
    }
   ],
   "source": [
    "clk_res = pd.pivot_table(df, values='result_position', index=['day'], margins=True)\n",
    "clk_res['result_position'] = round(clk_res['result_position']).astype('int64')\n",
    "clk_res"
   ]
  },
  {
   "cell_type": "markdown",
   "metadata": {},
   "source": [
    "### 3. What is our daily overall zero results rate? How does it vary between the groups?"
   ]
  },
  {
   "cell_type": "code",
   "execution_count": 8,
   "metadata": {
    "scrolled": false
   },
   "outputs": [
    {
     "data": {
      "text/html": [
       "<div>\n",
       "<style scoped>\n",
       "    .dataframe tbody tr th:only-of-type {\n",
       "        vertical-align: middle;\n",
       "    }\n",
       "\n",
       "    .dataframe tbody tr th {\n",
       "        vertical-align: top;\n",
       "    }\n",
       "\n",
       "    .dataframe thead th {\n",
       "        text-align: right;\n",
       "    }\n",
       "</style>\n",
       "<table border=\"1\" class=\"dataframe\">\n",
       "  <thead>\n",
       "    <tr style=\"text-align: right;\">\n",
       "      <th></th>\n",
       "      <th>zr_rate</th>\n",
       "      <th>zr_rate_a</th>\n",
       "      <th>zr_rate_b</th>\n",
       "    </tr>\n",
       "    <tr>\n",
       "      <th>day</th>\n",
       "      <th></th>\n",
       "      <th></th>\n",
       "      <th></th>\n",
       "    </tr>\n",
       "  </thead>\n",
       "  <tbody>\n",
       "    <tr>\n",
       "      <th>20160301</th>\n",
       "      <td>0.1876</td>\n",
       "      <td>0.1868</td>\n",
       "      <td>0.1894</td>\n",
       "    </tr>\n",
       "    <tr>\n",
       "      <th>20160302</th>\n",
       "      <td>0.1899</td>\n",
       "      <td>0.1911</td>\n",
       "      <td>0.1871</td>\n",
       "    </tr>\n",
       "    <tr>\n",
       "      <th>20160303</th>\n",
       "      <td>0.1797</td>\n",
       "      <td>0.1785</td>\n",
       "      <td>0.1823</td>\n",
       "    </tr>\n",
       "    <tr>\n",
       "      <th>20160304</th>\n",
       "      <td>0.1808</td>\n",
       "      <td>0.1830</td>\n",
       "      <td>0.1761</td>\n",
       "    </tr>\n",
       "    <tr>\n",
       "      <th>20160305</th>\n",
       "      <td>0.1849</td>\n",
       "      <td>0.1782</td>\n",
       "      <td>0.1975</td>\n",
       "    </tr>\n",
       "    <tr>\n",
       "      <th>20160306</th>\n",
       "      <td>0.1762</td>\n",
       "      <td>0.1689</td>\n",
       "      <td>0.1896</td>\n",
       "    </tr>\n",
       "    <tr>\n",
       "      <th>20160307</th>\n",
       "      <td>0.1820</td>\n",
       "      <td>0.1824</td>\n",
       "      <td>0.1812</td>\n",
       "    </tr>\n",
       "    <tr>\n",
       "      <th>20160308</th>\n",
       "      <td>0.1937</td>\n",
       "      <td>0.1961</td>\n",
       "      <td>0.1889</td>\n",
       "    </tr>\n",
       "  </tbody>\n",
       "</table>\n",
       "</div>"
      ],
      "text/plain": [
       "          zr_rate  zr_rate_a  zr_rate_b\n",
       "day                                    \n",
       "20160301   0.1876     0.1868     0.1894\n",
       "20160302   0.1899     0.1911     0.1871\n",
       "20160303   0.1797     0.1785     0.1823\n",
       "20160304   0.1808     0.1830     0.1761\n",
       "20160305   0.1849     0.1782     0.1975\n",
       "20160306   0.1762     0.1689     0.1896\n",
       "20160307   0.1820     0.1824     0.1812\n",
       "20160308   0.1937     0.1961     0.1889"
      ]
     },
     "execution_count": 8,
     "metadata": {},
     "output_type": "execute_result"
    }
   ],
   "source": [
    "df['n_results'].fillna(0, inplace=True)\n",
    "df['n_results'] = df['n_results'].astype('int64')\n",
    "\n",
    "n_results_na = pd.pivot_table(df[df.n_results == 0],\n",
    "                              values='n_results', \n",
    "                              index=['day'], \n",
    "                              columns=['action'], \n",
    "                              aggfunc='count')\n",
    "\n",
    "n_results_na_a = pd.pivot_table(df[(df.n_results == 0) & (df.group == 'a')],\n",
    "                                values='n_results', \n",
    "                                index=['day'], \n",
    "                                columns=['action'], \n",
    "                                aggfunc='count')\n",
    "\n",
    "n_results_na_b = pd.pivot_table(df[(df.n_results == 0) & (df.group == 'b')],\n",
    "                                values='n_results', \n",
    "                                index=['day'], \n",
    "                                columns=['action'], \n",
    "                                aggfunc='count')\n",
    "\n",
    "zr_rate = pd.merge(d_ctr['searchResultPage'], n_results_na['searchResultPage'], on=['day'], suffixes=('_all', '_na'))\n",
    "zr_rate_g = pd.merge(ga_ctr['searchResultPage'], gb_ctr['searchResultPage'], on=['day'], suffixes=('_a', '_b'))\n",
    "zr_rate_na_g = pd.merge(n_results_na_a['searchResultPage'], n_results_na_b['searchResultPage'], on=['day'], suffixes=('_na_a', '_na_b'))\n",
    "zr_rate = pd.merge(zr_rate, zr_rate_g, on=['day']).merge(zr_rate_na_g, on=['day'])\n",
    "\n",
    "zr_rate['zr_rate'] = round(zr_rate['searchResultPage_na']/zr_rate['searchResultPage_all'], 4)\n",
    "zr_rate['zr_rate_a'] = round(zr_rate['searchResultPage_na_a']/zr_rate['searchResultPage_a'], 4)\n",
    "zr_rate['zr_rate_b'] = round(zr_rate['searchResultPage_na_b']/zr_rate['searchResultPage_b'], 4)\n",
    "\n",
    "zr_rate[['zr_rate', 'zr_rate_a', 'zr_rate_b']]"
   ]
  },
  {
   "cell_type": "code",
   "execution_count": 9,
   "metadata": {},
   "outputs": [
    {
     "data": {
      "text/plain": [
       "<matplotlib.axes._subplots.AxesSubplot at 0x26127a5f588>"
      ]
     },
     "execution_count": 9,
     "metadata": {},
     "output_type": "execute_result"
    },
    {
     "data": {
      "image/png": "[encoded data removed]",
      "text/plain": [
       "<Figure size 1080x432 with 1 Axes>"
      ]
     },
     "metadata": {
      "needs_background": "light"
     },
     "output_type": "display_data"
    }
   ],
   "source": [
    "ax2 = zr_rate[['zr_rate']].plot(linestyle='--', marker='o', color='Red')\n",
    "zr_rate[['zr_rate_a', 'zr_rate_b']].plot(title='Daily Overall Zero Rate', figsize=(15,6), ax=ax2, marker='o')"
   ]
  },
  {
   "cell_type": "markdown",
   "metadata": {},
   "source": [
    "### 4. Let session length be approximately the time between the first event and the last event in a session. Choose a variable from the dataset and describe its relationship to session length. Visualize the relationship.\n",
    "\n",
    "The only variable that can be used to calculate session length is 'timestamp'. I decided to add a new column with Unix timestamp because 'timestamp' is a string and pandas' operations with strings are not very efficient. At the same time, Unix timestamp allows me to operate with seconds which is the time unit I need for `sessions_length`."
   ]
  },
  {
   "cell_type": "code",
   "execution_count": 10,
   "metadata": {},
   "outputs": [],
   "source": [
    "df['unix_timestamp'] = df['unix_timestamp'].astype('int64')\n",
    "sessions = df.groupby(['session_id'])\n",
    "maxvals = sessions.apply(lambda x: x.sort_values('unix_timestamp', ascending = False).head(1))\n",
    "minvals = sessions.apply(lambda x: x.sort_values('unix_timestamp', ascending = True).head(1))"
   ]
  },
  {
   "cell_type": "code",
   "execution_count": 18,
   "metadata": {},
   "outputs": [
    {
     "data": {
      "text/plain": [
       "session_length    153\n",
       "dtype: int64"
      ]
     },
     "execution_count": 18,
     "metadata": {},
     "output_type": "execute_result"
    }
   ],
   "source": [
    "sessions_merged = pd.merge(minvals, maxvals,  how='outer', left_index=True, right_index=True, suffixes=('_min', '_max'))\n",
    "\n",
    "sessions_length = pd.pivot_table(sessions_merged,\n",
    "                                 values=['unix_timestamp_min', 'unix_timestamp_max'],\n",
    "                                 index=['session_id'],\n",
    "                                 aggfunc='sum')\n",
    "\n",
    "sessions_length['session_length'] = (sessions_length['unix_timestamp_max']-sessions_length['unix_timestamp_min']).astype('int64')\n",
    "sessions_length[['session_length']].mean().astype('int64')"
   ]
  },
  {
   "cell_type": "markdown",
   "metadata": {},
   "source": [
    "The average session length in this time frame is **153 seconds**."
   ]
  }
 ],
 "metadata": {
  "kernelspec": {
   "display_name": "Python 3",
   "language": "python",
   "name": "python3"
  },
  "language_info": {
   "codemirror_mode": {
    "name": "ipython",
    "version": 3
   },
   "file_extension": ".py",
   "mimetype": "text/x-python",
   "name": "python",
   "nbconvert_exporter": "python",
   "pygments_lexer": "ipython3",
   "version": "3.7.2"
  }
 },
 "nbformat": 4,
 "nbformat_minor": 2
}
